{
 "cells": [
  {
   "cell_type": "markdown",
   "metadata": {},
   "source": [
    "# Singular Value Decomposition\n",
    "## Assignment 2: Question 2"
   ]
  },
  {
   "attachments": {},
   "cell_type": "markdown",
   "metadata": {},
   "source": [
    "### Why Singular Value Decomposition\n",
    "\n",
    "* Gives a decomposition of any matrix into a product of three matrices.\n",
    "* There are strong constraints on the form of each of these matrices.\n",
    "* Results in a decomposition that is essentially unique.\n",
    "* From this decomposition, you can choose any number r of intermediate concepts (latent factors) in a way that minimizes the RMSE error given that value of r."
   ]
  },
  {
   "attachments": {},
   "cell_type": "markdown",
   "metadata": {},
   "source": [
    "### Orthonormal Bases\n",
    "\n",
    "* Vectors are orthogonal if their dot product is 0.\n",
    "* Example: [1,2,3].[1,-2,1] = 0, so these two vectors are orthogonal.\n",
    "* A unit vector is one whose length is 1.\n",
    "* Length = square root of sum of squares of components.\n",
    "* No need to take square root if we are looking for length = 1.\n",
    "\n",
    "**Example: [0.8, -0.1, 0.5, -0.3, 0.1] is a unit vector, since 0.64 + 0.01 + 0.25 + 0.09 + 0.01 = 1.**\n",
    "\n",
    "An orthonormal basis is a set of unit vectors any two of which are orthogonal."
   ]
  },
  {
   "cell_type": "markdown",
   "metadata": {},
   "source": [
    "In this assignment, I'll be discussing a reference example from the following book (pg. 420)\n",
    "[Mining Massive Datasets](https://www.google.com/url?sa=t&rct=j&q=&esrc=s&source=web&cd=2&cad=rja&uact=8&ved=2ahUKEwjfso-Tm7HeAhVDXn0KHdPHC6sQFjABegQIARAC&url=http%3A%2F%2Finfolab.stanford.edu%2F~ullman%2Fmmds%2Fbook.pdf&usg=AOvVaw3zRMVWxsYJ--Uywgu3MQNy)"
   ]
  },
  {
   "cell_type": "markdown",
   "metadata": {},
   "source": [
    "### Initializing the libraries"
   ]
  },
  {
   "cell_type": "code",
   "execution_count": 55,
   "metadata": {
    "collapsed": true
   },
   "outputs": [],
   "source": [
    "import numpy as np\n",
    "import sympy \n",
    "from sympy.solvers import solve"
   ]
  },
  {
   "cell_type": "markdown",
   "metadata": {},
   "source": [
    "### Calculating Eigenvalues and Eigenvectors"
   ]
  },
  {
   "cell_type": "code",
   "execution_count": 149,
   "metadata": {},
   "outputs": [],
   "source": [
    "def eigen(A):\n",
    "    x = sympy.Symbol('x')\n",
    "    m = sympy.Matrix(A-x*np.identity(A.shape[1]))\n",
    "    e = solve(m.det())\n",
    "    \n",
    "    \n",
    "    \n",
    "    return np.linalg.eig(A)\n",
    "    "
   ]
  },
  {
   "cell_type": "markdown",
   "metadata": {},
   "source": [
    "### Generating a random matrix"
   ]
  },
  {
   "cell_type": "code",
   "execution_count": 57,
   "metadata": {
    "scrolled": true
   },
   "outputs": [
    {
     "data": {
      "text/plain": [
       "array([[1, 0, 4, 5, 6],\n",
       "       [0, 1, 9, 2, 2],\n",
       "       [6, 9, 0, 6, 5],\n",
       "       [5, 0, 1, 1, 1],\n",
       "       [0, 4, 5, 7, 6]])"
      ]
     },
     "execution_count": 57,
     "metadata": {},
     "output_type": "execute_result"
    }
   ],
   "source": [
    "A = np.random.randint(10,size = (5,5))\n",
    "A"
   ]
  },
  {
   "cell_type": "code",
   "execution_count": 58,
   "metadata": {},
   "outputs": [
    {
     "data": {
      "text/plain": [
       "5"
      ]
     },
     "execution_count": 58,
     "metadata": {},
     "output_type": "execute_result"
    }
   ],
   "source": [
    "np.linalg.matrix_rank(A)"
   ]
  },
  {
   "cell_type": "markdown",
   "metadata": {},
   "source": [
    "### Calculating U and Sigma"
   ]
  },
  {
   "cell_type": "code",
   "execution_count": 59,
   "metadata": {},
   "outputs": [
    {
     "data": {
      "text/plain": [
       "array([[1, 0, 6, 5, 0],\n",
       "       [0, 1, 9, 0, 4],\n",
       "       [4, 9, 0, 1, 5],\n",
       "       [5, 2, 6, 1, 7],\n",
       "       [6, 2, 5, 1, 6]])"
      ]
     },
     "execution_count": 59,
     "metadata": {},
     "output_type": "execute_result"
    }
   ],
   "source": [
    "A_t = np.transpose(A)\n",
    "A_t"
   ]
  },
  {
   "cell_type": "code",
   "execution_count": 60,
   "metadata": {},
   "outputs": [
    {
     "data": {
      "text/plain": [
       "array([[ 78,  58,  66,  20,  91],\n",
       "       [ 58,  90,  31,  13,  75],\n",
       "       [ 66,  31, 178,  41, 108],\n",
       "       [ 20,  13,  41,  28,  18],\n",
       "       [ 91,  75, 108,  18, 126]])"
      ]
     },
     "execution_count": 60,
     "metadata": {},
     "output_type": "execute_result"
    }
   ],
   "source": [
    "AA_t = A.dot(A_t)\n",
    "AA_t"
   ]
  },
  {
   "cell_type": "code",
   "execution_count": 167,
   "metadata": {},
   "outputs": [
    {
     "data": {
      "text/plain": [
       "array([[-0.41551283, -0.26918797, -0.50174522,  0.68293604,  0.19166903],\n",
       "       [-0.33347608, -0.63069791, -0.19268409, -0.45313255, -0.49855549],\n",
       "       [-0.60361532,  0.68471333, -0.28278996, -0.27655771, -0.10179322],\n",
       "       [-0.14672854,  0.14916727,  0.44531083,  0.49724604, -0.71460794],\n",
       "       [-0.57468432, -0.19665899,  0.6579154 , -0.06731614,  0.44008981]])"
      ]
     },
     "execution_count": 167,
     "metadata": {},
     "output_type": "execute_result"
    }
   ],
   "source": [
    "w1,v1 = eigen(AA_t)\n",
    "U = v1\n",
    "U"
   ]
  },
  {
   "cell_type": "code",
   "execution_count": 168,
   "metadata": {},
   "outputs": [
    {
     "data": {
      "text/plain": [
       "array([[18.79758132,  0.        ,  0.        ,  0.        ,  0.        ],\n",
       "       [ 0.        , 10.07031422,  0.        ,  0.        ,  0.        ],\n",
       "       [ 0.        ,  0.        ,  5.14396143,  0.        ,  0.        ],\n",
       "       [ 0.        ,  0.        ,  0.        ,  4.28741257,  0.        ],\n",
       "       [ 0.        ,  0.        ,  0.        ,  0.        ,  0.63044602]])"
      ]
     },
     "execution_count": 168,
     "metadata": {},
     "output_type": "execute_result"
    }
   ],
   "source": [
    "w1[::-1].sort() #sorting the eigenvalues in descending order\n",
    "w1 = np.sqrt(w1)\n",
    "sig = np.diag(w1)\n",
    "sig"
   ]
  },
  {
   "cell_type": "markdown",
   "metadata": {},
   "source": [
    "### Calculating V / VT and Sigma"
   ]
  },
  {
   "cell_type": "code",
   "execution_count": 171,
   "metadata": {},
   "outputs": [
    {
     "data": {
      "text/plain": [
       "array([[-0.25380113, -0.45529149, -0.77608085, -0.35215179, -0.04452269],\n",
       "       [-0.42903133, -0.47119544,  0.06719816,  0.7490337 ,  0.1683446 ],\n",
       "       [-0.40874866,  0.75341847, -0.43438937,  0.27657321,  0.00991348],\n",
       "       [-0.56048312, -0.02715891,  0.33369138, -0.20410956, -0.72945899],\n",
       "       [-0.51990413,  0.04803659,  0.30518659, -0.44360364,  0.6614145 ]])"
      ]
     },
     "execution_count": 171,
     "metadata": {},
     "output_type": "execute_result"
    }
   ],
   "source": [
    "A_tA = A_t.dot(A)\n",
    "w2,v2 = eigen(A_tA)\n",
    "V = v2\n",
    "V"
   ]
  },
  {
   "cell_type": "markdown",
   "metadata": {},
   "source": [
    "Now V Transpose:"
   ]
  },
  {
   "cell_type": "code",
   "execution_count": 173,
   "metadata": {},
   "outputs": [
    {
     "data": {
      "text/plain": [
       "array([[-0.25380113, -0.42903133, -0.40874866, -0.56048312, -0.51990413],\n",
       "       [-0.45529149, -0.47119544,  0.75341847, -0.02715891,  0.04803659],\n",
       "       [-0.77608085,  0.06719816, -0.43438937,  0.33369138,  0.30518659],\n",
       "       [-0.35215179,  0.7490337 ,  0.27657321, -0.20410956, -0.44360364],\n",
       "       [-0.04452269,  0.1683446 ,  0.00991348, -0.72945899,  0.6614145 ]])"
      ]
     },
     "execution_count": 173,
     "metadata": {},
     "output_type": "execute_result"
    }
   ],
   "source": [
    "V_t = np.transpose(V)\n",
    "V_t"
   ]
  },
  {
   "cell_type": "code",
   "execution_count": 172,
   "metadata": {},
   "outputs": [
    {
     "data": {
      "text/plain": [
       "array([[18.79758132,  0.        ,  0.        ,  0.        ,  0.        ],\n",
       "       [ 0.        , 10.07031422,  0.        ,  0.        ,  0.        ],\n",
       "       [ 0.        ,  0.        ,  5.14396143,  0.        ,  0.        ],\n",
       "       [ 0.        ,  0.        ,  0.        ,  4.28741257,  0.        ],\n",
       "       [ 0.        ,  0.        ,  0.        ,  0.        ,  0.63044602]])"
      ]
     },
     "execution_count": 172,
     "metadata": {},
     "output_type": "execute_result"
    }
   ],
   "source": [
    "w2[::-1].sort() #sorting the eigenvalues in descending order\n",
    "w2 = np.sqrt(w2)\n",
    "sig2 = np.diag(w2)\n",
    "sig2"
   ]
  },
  {
   "cell_type": "markdown",
   "metadata": {},
   "source": [
    "We observe that the sigma we got from the AAt calculation (for U) is the same as the one from AtA calculation (for V)"
   ]
  },
  {
   "cell_type": "markdown",
   "metadata": {},
   "source": [
    "### Function to calculate SVD"
   ]
  },
  {
   "cell_type": "markdown",
   "metadata": {},
   "source": [
    "We can sum up the analysis and the calculation of U, Sigma, and V with the following function:"
   ]
  },
  {
   "cell_type": "code",
   "execution_count": 181,
   "metadata": {
    "collapsed": true
   },
   "outputs": [],
   "source": [
    "def SVD (A):\n",
    "    \n",
    "    #calculating 'U' and 'Sigma'\n",
    "    A_t = np.transpose(A)\n",
    "    AA_t = A.dot(A_t)\n",
    "    w1,v1 = eigen(AA_t)\n",
    "#     for i in range(len(w1)):\n",
    "#         if(w1[i]<10**-5):\n",
    "#             w1[i]=0\n",
    "#     w1 = np.sqrt(w1)\n",
    "#     w1 = w1[w1!= 0]\n",
    "#     sig = np.diag(w1)\n",
    "\n",
    "    vec=[]\n",
    "    for i in range(len(w1)):\n",
    "        if(w1[i]<10**-5):\n",
    "            w1[i]=0\n",
    "        else:\n",
    "            vec.append(i)\n",
    "    w1 = np.sqrt(w1)\n",
    "    w1 = w1[w1!=0]\n",
    "    U = v1[:,vec]\n",
    "    sig = np.diag(w1)\n",
    "    \n",
    "    #calculating 'V'\n",
    "    A_tA = A_t.dot(A)\n",
    "    w2,v2 = eigen(A_tA)\n",
    "    vec2=[]\n",
    "    for j in range(len(w2)):\n",
    "        if(w2[j]<10**-5):\n",
    "            w2[j]=0\n",
    "        else:\n",
    "            vec2.append(j)\n",
    "    w2 = np.sqrt(w2)\n",
    "    w2 = w2[w2!=0]\n",
    "    V = v2[:,vec2]\n",
    "    V_t = np.transpose(V)\n",
    "    \n",
    "    \n",
    "    return U,sig,V_t\n",
    "    \n",
    "    "
   ]
  },
  {
   "cell_type": "markdown",
   "metadata": {},
   "source": [
    "## Dimensionaltiy Reduction using SVD"
   ]
  },
  {
   "cell_type": "markdown",
   "metadata": {},
   "source": [
    "### Energy"
   ]
  },
  {
   "cell_type": "markdown",
   "metadata": {},
   "source": [
    "Energy of the eigenvalues of the sigma matrix refers to the sum of square of elements of the matrix. The idea is that if the energy after dropping one of the elements of sigma is greater than 90%, we can remove the eigenvector and the corresponding rows/columns from U and V."
   ]
  },
  {
   "cell_type": "code",
   "execution_count": 177,
   "metadata": {
    "collapsed": true
   },
   "outputs": [],
   "source": [
    "def energy(m,i):\n",
    "    return 1-(m[i]/sum(np.square(m)))"
   ]
  },
  {
   "cell_type": "markdown",
   "metadata": {},
   "source": [
    "**For Example:**"
   ]
  },
  {
   "cell_type": "code",
   "execution_count": 145,
   "metadata": {},
   "outputs": [
    {
     "data": {
      "text/plain": [
       "0.9285714285714286"
      ]
     },
     "execution_count": 145,
     "metadata": {},
     "output_type": "execute_result"
    }
   ],
   "source": [
    "energy([1,2,3],0)"
   ]
  },
  {
   "cell_type": "markdown",
   "metadata": {},
   "source": [
    "We see that the "
   ]
  },
  {
   "cell_type": "markdown",
   "metadata": {},
   "source": [
    "### Applying SVD on the matrix from the book "
   ]
  },
  {
   "cell_type": "markdown",
   "metadata": {},
   "source": [
    "We will use a specific example given in the book (Mining Massive Datasets by Jure Leskovec). This way, we'll be able to observe and verify the application of dimensionality reduction using SVD."
   ]
  },
  {
   "cell_type": "code",
   "execution_count": 153,
   "metadata": {},
   "outputs": [
    {
     "data": {
      "text/plain": [
       "matrix([[1, 1, 1, 0, 0],\n",
       "        [3, 3, 3, 0, 0],\n",
       "        [4, 4, 4, 0, 0],\n",
       "        [5, 5, 5, 0, 0],\n",
       "        [0, 0, 0, 4, 4],\n",
       "        [0, 0, 0, 5, 5],\n",
       "        [0, 0, 0, 2, 2]])"
      ]
     },
     "execution_count": 153,
     "metadata": {},
     "output_type": "execute_result"
    }
   ],
   "source": [
    "B = np.matrix([[1,1,1,0,0],[3,3,3,0,0],[4,4,4,0,0],[5,5,5,0,0],[0,0,0,4,4],[0,0,0,5,5],[0,0,0,2,2]])\n",
    "B"
   ]
  },
  {
   "cell_type": "markdown",
   "metadata": {},
   "source": [
    "Let's calculate it's rank, since we know that the number of non-zero eigenvalue this matrix would produce would be equal to it's rank."
   ]
  },
  {
   "cell_type": "code",
   "execution_count": 154,
   "metadata": {},
   "outputs": [
    {
     "data": {
      "text/plain": [
       "2"
      ]
     },
     "execution_count": 154,
     "metadata": {},
     "output_type": "execute_result"
    }
   ],
   "source": [
    "np.linalg.matrix_rank(B)"
   ]
  },
  {
   "cell_type": "markdown",
   "metadata": {},
   "source": [
    "Using the `SVD()` function defined above, we get 3 matrices corresponding to U, Sigma and V"
   ]
  },
  {
   "cell_type": "code",
   "execution_count": 182,
   "metadata": {},
   "outputs": [
    {
     "data": {
      "text/plain": [
       "matrix([[0.14002801, 0.        ],\n",
       "        [0.42008403, 0.        ],\n",
       "        [0.56011203, 0.        ],\n",
       "        [0.70014004, 0.        ],\n",
       "        [0.        , 0.59628479],\n",
       "        [0.        , 0.74535599],\n",
       "        [0.        , 0.2981424 ]])"
      ]
     },
     "execution_count": 182,
     "metadata": {},
     "output_type": "execute_result"
    }
   ],
   "source": [
    "U,S,V_t = SVD(B)\n",
    "U"
   ]
  },
  {
   "cell_type": "code",
   "execution_count": 183,
   "metadata": {},
   "outputs": [
    {
     "data": {
      "text/plain": [
       "array([[12.36931688,  0.        ],\n",
       "       [ 0.        ,  9.48683298]])"
      ]
     },
     "execution_count": 183,
     "metadata": {},
     "output_type": "execute_result"
    }
   ],
   "source": [
    "S"
   ]
  },
  {
   "cell_type": "code",
   "execution_count": 184,
   "metadata": {},
   "outputs": [
    {
     "data": {
      "text/plain": [
       "matrix([[0.57735027, 0.57735027, 0.57735027, 0.        , 0.        ],\n",
       "        [0.        , 0.        , 0.        , 0.70710678, 0.70710678]])"
      ]
     },
     "execution_count": 184,
     "metadata": {},
     "output_type": "execute_result"
    }
   ],
   "source": [
    "V_t"
   ]
  },
  {
   "cell_type": "markdown",
   "metadata": {},
   "source": [
    "Now, when we multiply U (Sigma) V_t, we should approximately get back the same matrix:"
   ]
  },
  {
   "cell_type": "code",
   "execution_count": 185,
   "metadata": {},
   "outputs": [
    {
     "data": {
      "text/plain": [
       "matrix([[1., 1., 1., 0., 0.],\n",
       "        [3., 3., 3., 0., 0.],\n",
       "        [4., 4., 4., 0., 0.],\n",
       "        [5., 5., 5., 0., 0.],\n",
       "        [0., 0., 0., 4., 4.],\n",
       "        [0., 0., 0., 5., 5.],\n",
       "        [0., 0., 0., 2., 2.]])"
      ]
     },
     "execution_count": 185,
     "metadata": {},
     "output_type": "execute_result"
    }
   ],
   "source": [
    "U.dot(S.dot(V_t))"
   ]
  },
  {
   "cell_type": "markdown",
   "metadata": {},
   "source": [
    "If we had a matrix with a rank 3 and the categories of choices (of movie genres discussed in the book) were not clearly distinguishable, we can use dimensionality reduction to get a good approximation of those 2 categories."
   ]
  },
  {
   "cell_type": "markdown",
   "metadata": {},
   "source": [
    "### New Matrix:"
   ]
  },
  {
   "cell_type": "code",
   "execution_count": 188,
   "metadata": {},
   "outputs": [
    {
     "data": {
      "text/plain": [
       "matrix([[1, 1, 1, 0, 0],\n",
       "        [3, 3, 3, 0, 0],\n",
       "        [4, 4, 4, 0, 0],\n",
       "        [5, 5, 5, 0, 0],\n",
       "        [0, 2, 0, 4, 4],\n",
       "        [0, 0, 0, 5, 5],\n",
       "        [0, 1, 0, 2, 2]])"
      ]
     },
     "execution_count": 188,
     "metadata": {},
     "output_type": "execute_result"
    }
   ],
   "source": [
    "B2 = np.matrix([[1,1,1,0,0],[3,3,3,0,0],[4,4,4,0,0],[5,5,5,0,0],[0,2,0,4,4],[0,0,0,5,5],[0,1,0,2,2]])\n",
    "B2"
   ]
  },
  {
   "cell_type": "code",
   "execution_count": 190,
   "metadata": {},
   "outputs": [
    {
     "data": {
      "text/plain": [
       "matrix([[-0.13759913+0.j,  0.02361145+0.j, -0.01080847+0.j],\n",
       "        [-0.41279738+0.j,  0.07083435+0.j, -0.03242542+0.j],\n",
       "        [-0.5503965 +0.j,  0.09444581+0.j, -0.04323389+0.j],\n",
       "        [-0.68799563+0.j,  0.11805726+0.j, -0.05404236+0.j],\n",
       "        [-0.15277509+0.j, -0.59110096+0.j,  0.65365084+0.j],\n",
       "        [-0.07221651+0.j, -0.73131186+0.j, -0.67820922+0.j],\n",
       "        [-0.07638754+0.j, -0.29555048+0.j,  0.32682542+0.j]])"
      ]
     },
     "execution_count": 190,
     "metadata": {},
     "output_type": "execute_result"
    }
   ],
   "source": [
    "U_prime,S_prime,V_t_prime = SVD(B2)\n",
    "U_prime"
   ]
  },
  {
   "cell_type": "code",
   "execution_count": 191,
   "metadata": {},
   "outputs": [
    {
     "data": {
      "text/plain": [
       "array([[12.48101469+0.j,  0.        +0.j,  0.        +0.j],\n",
       "       [ 0.        +0.j,  9.50861406+0.j,  0.        +0.j],\n",
       "       [ 0.        +0.j,  0.        +0.j,  1.34555971+0.j]])"
      ]
     },
     "execution_count": 191,
     "metadata": {},
     "output_type": "execute_result"
    }
   ],
   "source": [
    "S_prime"
   ]
  },
  {
   "cell_type": "code",
   "execution_count": 192,
   "metadata": {},
   "outputs": [
    {
     "data": {
      "text/plain": [
       "matrix([[ 0.56225841,  0.5928599 ,  0.56225841,  0.09013354,  0.09013354],\n",
       "        [ 0.12664138, -0.02877058,  0.12664138, -0.69537622, -0.69537622],\n",
       "        [-0.40966748,  0.80479152, -0.40966748, -0.0912571 , -0.0912571 ]])"
      ]
     },
     "execution_count": 192,
     "metadata": {},
     "output_type": "execute_result"
    }
   ],
   "source": [
    "V_t_prime"
   ]
  },
  {
   "cell_type": "markdown",
   "metadata": {},
   "source": [
    "Now, energy of S_prime with the 3rd eigenvalue of 1.3, is:"
   ]
  },
  {
   "cell_type": "code",
   "execution_count": 193,
   "metadata": {},
   "outputs": [
    {
     "data": {
      "text/plain": [
       "(0.994574355997+0j)"
      ]
     },
     "execution_count": 193,
     "metadata": {},
     "output_type": "execute_result"
    }
   ],
   "source": [
    "energy(np.diag(S_prime),2)"
   ]
  },
  {
   "cell_type": "markdown",
   "metadata": {},
   "source": [
    "This is **much greater than 90%** and thus this eigenvalue can be removed from the matrix."
   ]
  },
  {
   "cell_type": "code",
   "execution_count": 200,
   "metadata": {},
   "outputs": [
    {
     "data": {
      "text/plain": [
       "array([[12.48101469+0.j,  0.        +0.j],\n",
       "       [ 0.        +0.j,  9.50861406+0.j]])"
      ]
     },
     "execution_count": 200,
     "metadata": {},
     "output_type": "execute_result"
    }
   ],
   "source": [
    "Sigma_new = np.diag(np.diag(S_prime)[:2])\n",
    "Sigma_new"
   ]
  },
  {
   "cell_type": "markdown",
   "metadata": {},
   "source": [
    "The U and V vectors would accordingly scale:"
   ]
  },
  {
   "cell_type": "code",
   "execution_count": 203,
   "metadata": {},
   "outputs": [
    {
     "data": {
      "text/plain": [
       "matrix([[-0.13759913+0.j,  0.02361145+0.j],\n",
       "        [-0.41279738+0.j,  0.07083435+0.j],\n",
       "        [-0.5503965 +0.j,  0.09444581+0.j],\n",
       "        [-0.68799563+0.j,  0.11805726+0.j],\n",
       "        [-0.15277509+0.j, -0.59110096+0.j],\n",
       "        [-0.07221651+0.j, -0.73131186+0.j],\n",
       "        [-0.07638754+0.j, -0.29555048+0.j]])"
      ]
     },
     "execution_count": 203,
     "metadata": {},
     "output_type": "execute_result"
    }
   ],
   "source": [
    "U_new = U_prime[:,:2]\n",
    "U_new"
   ]
  },
  {
   "cell_type": "code",
   "execution_count": 205,
   "metadata": {},
   "outputs": [
    {
     "data": {
      "text/plain": [
       "matrix([[ 0.56225841,  0.5928599 ,  0.56225841,  0.09013354,  0.09013354],\n",
       "        [ 0.12664138, -0.02877058,  0.12664138, -0.69537622, -0.69537622]])"
      ]
     },
     "execution_count": 205,
     "metadata": {},
     "output_type": "execute_result"
    }
   ],
   "source": [
    "V_t_new = V_t_prime[:2,:]\n",
    "V_t_new"
   ]
  },
  {
   "cell_type": "markdown",
   "metadata": {},
   "source": [
    "Now, the new multiplication of these terms should give a good estimation of the original matrix:"
   ]
  },
  {
   "cell_type": "code",
   "execution_count": 207,
   "metadata": {},
   "outputs": [
    {
     "data": {
      "text/plain": [
       "matrix([[-0.93717696+0.j, -1.02462313+0.j, -0.93717696+0.j,\n",
       "         -0.31091367+0.j, -0.31091367+0.j],\n",
       "        [-2.81153088+0.j, -3.0738694 +0.j, -2.81153088+0.j,\n",
       "         -0.932741  +0.j, -0.932741  +0.j],\n",
       "        [-3.74870783+0.j, -4.09849254+0.j, -3.74870783+0.j,\n",
       "         -1.24365467+0.j, -1.24365467+0.j],\n",
       "        [-4.68588479+0.j, -5.12311567+0.j, -4.68588479+0.j,\n",
       "         -1.55456834+0.j, -1.55456834+0.j],\n",
       "        [-1.78390197+0.j, -0.96875167+0.j, -1.78390197+0.j,\n",
       "          3.7365319 +0.j,  3.7365319 +0.j],\n",
       "        [-1.38741744+0.j, -0.3343018 +0.j, -1.38741744+0.j,\n",
       "          4.75424033+0.j,  4.75424033+0.j],\n",
       "        [-0.89195099+0.j, -0.48437583+0.j, -0.89195099+0.j,\n",
       "          1.86826595+0.j,  1.86826595+0.j]])"
      ]
     },
     "execution_count": 207,
     "metadata": {},
     "output_type": "execute_result"
    }
   ],
   "source": [
    "M = U_new.dot(Sigma_new.dot(V_t_new))\n",
    "M"
   ]
  }
 ],
 "metadata": {
  "kernelspec": {
   "display_name": "Python 3",
   "language": "python",
   "name": "python3"
  },
  "language_info": {
   "codemirror_mode": {
    "name": "ipython",
    "version": 3
   },
   "file_extension": ".py",
   "mimetype": "text/x-python",
   "name": "python",
   "nbconvert_exporter": "python",
   "pygments_lexer": "ipython3",
   "version": "3.6.1"
  }
 },
 "nbformat": 4,
 "nbformat_minor": 2
}
