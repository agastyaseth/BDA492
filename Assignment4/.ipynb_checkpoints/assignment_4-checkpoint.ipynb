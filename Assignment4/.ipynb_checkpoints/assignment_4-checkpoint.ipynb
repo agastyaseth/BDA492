{
 "cells": [
  {
   "cell_type": "markdown",
   "metadata": {
    "collapsed": true
   },
   "source": [
    "# Assignment 4"
   ]
  },
  {
   "cell_type": "markdown",
   "metadata": {
    "collapsed": true
   },
   "source": [
    "## Generating Random Numbers"
   ]
  },
  {
   "cell_type": "markdown",
   "metadata": {},
   "source": [
    "### Problem Statement\n",
    "\n",
    "Write and algorithm and code to generate a random sequence of numbers as follows:\n",
    "\n",
    "Generate a sequence of numbers wherein each number has 10 digits which are chosen at random using any choice of probability distribution function. Once such a sequence is generated, choose one digit randomly from each number either using the same probability distribution function or a different one. Theoretically understand the concept, if such sequence generated is random or not. "
   ]
  },
  {
   "cell_type": "code",
   "execution_count": 36,
   "metadata": {},
   "outputs": [],
   "source": [
    "import numpy as np\n",
    "from scipy import stats \n",
    "import matplotlib.pyplot as plt"
   ]
  },
  {
   "cell_type": "markdown",
   "metadata": {
    "collapsed": true
   },
   "source": [
    "### Creating a sample from Discrete Uniform Distribution From 0 to 9"
   ]
  },
  {
   "cell_type": "code",
   "execution_count": 22,
   "metadata": {},
   "outputs": [
    {
     "data": {
      "image/png": "[encoded data removed]",
      "text/plain": [
       "<Figure size 432x288 with 1 Axes>"
      ]
     },
     "metadata": {},
     "output_type": "display_data"
    }
   ],
   "source": [
    "np.random.seed(123)\n",
    "r = np.random.randint(10, size=1000)\n",
    "plt.hist(r,bins=20)\n",
    "plt.show()"
   ]
  },
  {
   "cell_type": "markdown",
   "metadata": {},
   "source": [
    "### Sampling from the Generated Distribution"
   ]
  },
  {
   "cell_type": "code",
   "execution_count": 4,
   "metadata": {
    "collapsed": true
   },
   "outputs": [],
   "source": [
    "def randomnum(m,n): # 'm' is the number of 'n' digit numbers sampled\n",
    "    a = np.zeros((m,n))\n",
    "    for i in range(m):\n",
    "        b = []\n",
    "        for j in range(n):\n",
    "            b.append(np.random.randint(10))\n",
    "        a[i,:] = b\n",
    "    #np.shape(a)\n",
    "    x = []\n",
    "    for i in range(m):\n",
    "        x.append(a[i,np.random.randint(n)])\n",
    "    return x"
   ]
  },
  {
   "cell_type": "code",
   "execution_count": 61,
   "metadata": {},
   "outputs": [
    {
     "data": {
      "text/plain": [
       "(1000,)"
      ]
     },
     "execution_count": 61,
     "metadata": {},
     "output_type": "execute_result"
    }
   ],
   "source": [
    "#testing out the function\n",
    "a=randomnum(1000,10)\n",
    "np.shape(a)\n"
   ]
  },
  {
   "cell_type": "code",
   "execution_count": 15,
   "metadata": {
    "scrolled": true
   },
   "outputs": [
    {
     "data": {
      "image/png": "[encoded data removed]",
      "text/plain": [
       "<Figure size 432x288 with 1 Axes>"
      ]
     },
     "metadata": {},
     "output_type": "display_data"
    },
    {
     "data": {
      "text/plain": [
       "array([104., 116.,  86., 117.,  94., 111.,  81., 108.,  93.,  90.])"
      ]
     },
     "execution_count": 15,
     "metadata": {},
     "output_type": "execute_result"
    }
   ],
   "source": []
  },
  {
   "cell_type": "markdown",
   "metadata": {},
   "source": [
    "### Chi-Square Test"
   ]
  },
  {
   "cell_type": "markdown",
   "metadata": {},
   "source": [
    "Is the sequence we generated random? We can’t make a definite yes/no statement, but we can give a probabilistic answer. We can form the Chi-Square Statistic."
   ]
  },
  {
   "cell_type": "markdown",
   "metadata": {},
   "source": [
    "$$D=\\sum_{i=1}^k\\frac{(o_i-e_i)^2}{e_i}$$"
   ]
  },
  {
   "cell_type": "markdown",
   "metadata": {},
   "source": [
    "Where:\n",
    "     $o_i$ is the observed frequency, which in our case are the frequencies corresponding to the bins(numbers from 1-10)."
   ]
  },
  {
   "cell_type": "markdown",
   "metadata": {},
   "source": [
    "$e_i$ is the expected frequency based on our distribution (i.e. uniform distribution). In our case, this would be equally divided for all the bins, or $e_i = \\frac{n}{10}$"
   ]
  },
  {
   "cell_type": "markdown",
   "metadata": {},
   "source": [
    "$k$ is the degree of freedom, which is $n-1$ in our case."
   ]
  },
  {
   "cell_type": "markdown",
   "metadata": {},
   "source": [
    "In essence, to verify the random sequence generated, we must find the chi-square value corresponding to the hisogram we got and the expected values, which in the case of uniform distribution is the number of samples divided by the bins (10). We shall try to get the values for different values of n = (10,100,1000,10000)."
   ]
  },
  {
   "cell_type": "code",
   "execution_count": 55,
   "metadata": {},
   "outputs": [
    {
     "data": {
      "image/png": "[encoded data removed]",
      "text/plain": [
       "<Figure size 432x288 with 1 Axes>"
      ]
     },
     "metadata": {},
     "output_type": "display_data"
    },
    {
     "data": {
      "text/plain": [
       "0.21330930508341653"
      ]
     },
     "execution_count": 55,
     "metadata": {},
     "output_type": "execute_result"
    }
   ],
   "source": [
    "np.random.seed(53)\n",
    "t = randomnum(10,10)\n",
    "h = plt.hist(t,bins=10)\n",
    "plt.show()\n",
    "e = 10/10;\n",
    "chisq = sum(pow(h[0]-e,2)/e)\n",
    "p_value = 1-stats.chi2.cdf(chisq, 9)\n",
    "p_value\n",
    "\n",
    "#verifying from the in-built function\n",
    "stats.distributions.chi2.sf(chisq,9)"
   ]
  },
  {
   "cell_type": "markdown",
   "metadata": {},
   "source": [
    "According to the result of the Chi-Square test, for n=10, we can reject the null hypothesis that our random number generator generates uniform random numbers with only 21% confidence."
   ]
  },
  {
   "cell_type": "markdown",
   "metadata": {},
   "source": [
    "#### For n=100"
   ]
  },
  {
   "cell_type": "code",
   "execution_count": 60,
   "metadata": {},
   "outputs": [
    {
     "data": {
      "image/png": "[encoded data removed]",
      "text/plain": [
       "<Figure size 432x288 with 1 Axes>"
      ]
     },
     "metadata": {},
     "output_type": "display_data"
    },
    {
     "data": {
      "text/plain": [
       "0.24928389397664907"
      ]
     },
     "execution_count": 60,
     "metadata": {},
     "output_type": "execute_result"
    }
   ],
   "source": [
    "np.random.seed(90)\n",
    "t = randomnum(100,10)\n",
    "h = plt.hist(t,bins=10)\n",
    "plt.show()\n",
    "e = 100/10;\n",
    "chisq = sum(pow(h[0]-e,2)/e)\n",
    "p_value = 1-stats.chi2.cdf(chisq, 9)\n",
    "p_value"
   ]
  },
  {
   "cell_type": "markdown",
   "metadata": {},
   "source": [
    "According to the result of the Chi-Square test, for n=100, we can reject the null hypothesis that our random number generator generates uniform random numbers with only 24% confidence."
   ]
  },
  {
   "cell_type": "markdown",
   "metadata": {},
   "source": [
    "#### For n=1000"
   ]
  },
  {
   "cell_type": "code",
   "execution_count": 64,
   "metadata": {},
   "outputs": [
    {
     "data": {
      "image/png": "[encoded data removed]",
      "text/plain": [
       "<Figure size 432x288 with 1 Axes>"
      ]
     },
     "metadata": {},
     "output_type": "display_data"
    },
    {
     "data": {
      "text/plain": [
       "0.4446914889170639"
      ]
     },
     "execution_count": 64,
     "metadata": {},
     "output_type": "execute_result"
    }
   ],
   "source": [
    "np.random.seed(80)\n",
    "t = randomnum(1000,10)\n",
    "h = plt.hist(t,bins=10)\n",
    "plt.show()\n",
    "e = 1000/10;\n",
    "chisq = sum(pow(h[0]-e,2)/e)\n",
    "p_value = 1-stats.chi2.cdf(chisq, 9)\n",
    "p_value"
   ]
  },
  {
   "cell_type": "markdown",
   "metadata": {},
   "source": [
    "According to the result of the Chi-Square test, for n=1000, we can reject the null hypothesis that our random number generator generates uniform random numbers with only 44% confidence."
   ]
  },
  {
   "cell_type": "markdown",
   "metadata": {},
   "source": [
    "#### For n=10000"
   ]
  },
  {
   "cell_type": "code",
   "execution_count": 63,
   "metadata": {},
   "outputs": [
    {
     "data": {
      "image/png": "[encoded data removed]",
      "text/plain": [
       "<Figure size 432x288 with 1 Axes>"
      ]
     },
     "metadata": {},
     "output_type": "display_data"
    },
    {
     "data": {
      "text/plain": [
       "0.9030630849199266"
      ]
     },
     "execution_count": 63,
     "metadata": {},
     "output_type": "execute_result"
    }
   ],
   "source": [
    "np.random.seed(90)\n",
    "t = randomnum(10000,10)\n",
    "h = plt.hist(t,bins=10)\n",
    "plt.show()\n",
    "e = 10000/10;\n",
    "chisq = sum(pow(h[0]-e,2)/e)\n",
    "p_value = 1-stats.chi2.cdf(chisq, 9)\n",
    "p_value"
   ]
  },
  {
   "cell_type": "markdown",
   "metadata": {},
   "source": [
    "According to the result of the Chi-Square test, for n=10000, we can reject the null hypothesis that our random number generator generates uniform random numbers with only 90% confidence."
   ]
  },
  {
   "cell_type": "markdown",
   "metadata": {},
   "source": [
    "### Conclusion"
   ]
  },
  {
   "cell_type": "markdown",
   "metadata": {},
   "source": [
    "We can conclude by saying, we cannot ever generate truely random numbers, nor can we comment on their absolute randomness. We use various tests to test only the given sequence in terms of their frequency. We used one such test, namely the chi-square test, only to observe that the confidence with which we can declare a sequence random increases with the number of samples (n)."
   ]
  },
  {
   "cell_type": "code",
   "execution_count": null,
   "metadata": {
    "collapsed": true
   },
   "outputs": [],
   "source": []
  }
 ],
 "metadata": {
  "kernelspec": {
   "display_name": "Python 3",
   "language": "python",
   "name": "python3"
  },
  "language_info": {
   "codemirror_mode": {
    "name": "ipython",
    "version": 3
   },
   "file_extension": ".py",
   "mimetype": "text/x-python",
   "name": "python",
   "nbconvert_exporter": "python",
   "pygments_lexer": "ipython3",
   "version": "3.6.1"
  }
 },
 "nbformat": 4,
 "nbformat_minor": 2
}
